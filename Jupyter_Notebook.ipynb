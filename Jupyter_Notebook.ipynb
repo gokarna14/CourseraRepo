{
 "cells": [
  {
   "cell_type": "markdown",
   "metadata": {},
   "source": [
    "<center>\n",
    "    <img src=\"https://s3-api.us-geo.objectstorage.softlayer.net/cf-courses-data/CognitiveClass/Logos/organization_logo/organization_logo.png\" width=\"300\" alt=\"cognitiveclass.ai logo\"  />\n",
    "</center>\n"
   ]
  },
  {
   "cell_type": "markdown",
   "metadata": {
    "tags": []
   },
   "source": [
    "# My Jupyter Notebook on IBM Watson Studio"
   ]
  },
  {
   "cell_type": "markdown",
   "metadata": {
    "jp-MarkdownHeadingCollapsed": true,
    "tags": []
   },
   "source": [
    "**Gokarna Adhikari** <br/>\n",
    "Data Analyst"
   ]
  },
  {
   "cell_type": "markdown",
   "metadata": {
    "jp-MarkdownHeadingCollapsed": true,
    "tags": []
   },
   "source": [
    "_I love data science because it makes you a discover many facts using data and a great story teller that can untimately be helpful for the society_\n",
    "*I would love to be a data analyst in future because the face we can discover undi*I would love to be a data analyst in future because the face we can discover undiscovered from a certain vloume of data facinates me.*scovered from a certain vloume of data facinates me.*"
   ]
  },
  {
   "cell_type": "markdown",
   "metadata": {
    "tags": []
   },
   "source": [
    "### The code will ask for your name and what you are interest in and displays the final result"
   ]
  },
  {
   "cell_type": "code",
   "execution_count": 2,
   "metadata": {},
   "outputs": [
    {
     "name": "stdin",
     "output_type": "stream",
     "text": [
      "Enter your name.\n",
      " Gokarna\n",
      "What are you interested in?\n",
      " Data Science\n"
     ]
    },
    {
     "name": "stdout",
     "output_type": "stream",
     "text": [
      "You are Gokarna and you are interested in data science.\n"
     ]
    }
   ],
   "source": [
    "name = input('Enter your name.\\n')\n",
    "interest = input('What are you interested in?\\n')\n",
    "\n",
    "print(f'You are {name} and you are interested in data science.')"
   ]
  },
  {
   "cell_type": "markdown",
   "metadata": {
    "tags": []
   },
   "source": [
    "<a href=\"www.facebook.com\">Go to facebook homepage.<a/>\n",
    "\n",
    "---\n",
    "    \n",
    "What is data science?\n",
    "    \n",
    "- Making sense of data\n",
    "- Story telling\n",
    "- Creative thinking\n",
    "    \n",
    "    ---\n",
    "   \n",
    "Benefits of being data analyst.\n",
    "    \n",
    "1. Good Scope\n",
    "2. Good Job\n",
    "3. Good Life\n",
    "    \n",
    "    >This is the blocked quote.*This should be italicized* and **This should be bold**\n",
    "    \n",
    "    ___    \n",
    "    \n",
    "    \n"
   ]
  }
 ],
 "metadata": {
  "kernelspec": {
   "display_name": "Python",
   "language": "python",
   "name": "conda-env-python-py"
  },
  "language_info": {
   "codemirror_mode": {
    "name": "ipython",
    "version": 3
   },
   "file_extension": ".py",
   "mimetype": "text/x-python",
   "name": "python",
   "nbconvert_exporter": "python",
   "pygments_lexer": "ipython3",
   "version": "3.7.12"
  }
 },
 "nbformat": 4,
 "nbformat_minor": 4
}
